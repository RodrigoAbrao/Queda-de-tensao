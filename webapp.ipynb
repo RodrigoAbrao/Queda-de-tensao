{
 "cells": [
  {
   "cell_type": "code",
   "execution_count": 1,
   "metadata": {},
   "outputs": [
    {
     "name": "stdout",
     "output_type": "stream",
     "text": [
      "Requirement already satisfied: flask in c:\\users\\phoenix\\appdata\\local\\programs\\python\\python310\\lib\\site-packages (2.3.1)\n",
      "Requirement already satisfied: click>=8.1.3 in c:\\users\\phoenix\\appdata\\local\\programs\\python\\python310\\lib\\site-packages (from flask) (8.1.3)\n",
      "Requirement already satisfied: blinker>=1.6.2 in c:\\users\\phoenix\\appdata\\local\\programs\\python\\python310\\lib\\site-packages (from flask) (1.6.2)\n",
      "Requirement already satisfied: itsdangerous>=2.1.2 in c:\\users\\phoenix\\appdata\\local\\programs\\python\\python310\\lib\\site-packages (from flask) (2.1.2)\n",
      "Requirement already satisfied: Jinja2>=3.1.2 in c:\\users\\phoenix\\appdata\\local\\programs\\python\\python310\\lib\\site-packages (from flask) (3.1.2)\n",
      "Requirement already satisfied: Werkzeug>=2.3.0 in c:\\users\\phoenix\\appdata\\local\\programs\\python\\python310\\lib\\site-packages (from flask) (2.3.0)\n",
      "Requirement already satisfied: colorama in c:\\users\\phoenix\\appdata\\local\\programs\\python\\python310\\lib\\site-packages (from click>=8.1.3->flask) (0.4.4)\n",
      "Requirement already satisfied: MarkupSafe>=2.0 in c:\\users\\phoenix\\appdata\\local\\programs\\python\\python310\\lib\\site-packages (from Jinja2>=3.1.2->flask) (2.1.2)\n",
      "Note: you may need to restart the kernel to use updated packages.\n"
     ]
    },
    {
     "name": "stderr",
     "output_type": "stream",
     "text": [
      "\n",
      "[notice] A new release of pip is available: 23.0.1 -> 23.1.2\n",
      "[notice] To update, run: python.exe -m pip install --upgrade pip\n"
     ]
    }
   ],
   "source": [
    "from flask import Flask, render_template, request\n",
    "from calcular_queda_tensao import calcular_queda_tensao\n",
    "\n",
    "app = Flask(__name__)\n",
    "\n",
    "@app.route(\"/\", methods=[\"GET\", \"POST\"])\n",
    "def index():\n",
    "    if request.method == \"POST\":\n",
    "        tipo_ligacao = request.form[\"tipo_ligacao\"]\n",
    "        distancia = float(request.form[\"distancia\"])\n",
    "        potencia = int(request.form[\"potencia\"])\n",
    "        tensao = request.form[\"tensao\"]\n",
    "        limite_queda_tensao = float(request.form[\"limite_queda_tensao\"])\n",
    "        tipo_cabo = request.form[\"tipo_cabo\"]\n",
    "\n",
    "        bitola_cabo, queda_tensao = calcular_queda_tensao(tipo_ligacao, distancia, potencia, tensao, limite_queda_tensao, tipo_cabo)\n",
    "\n",
    "        return render_template(\"resultado.html\", bitola_cabo=bitola_cabo, queda_tensao=queda_tensao)\n",
    "\n",
    "    return render_template(\"index.html\")\n",
    "\n",
    "if __name__ == \"__main__\":\n",
    "    app.run(debug=True)\n",
    "\n"
   ]
  }
 ],
 "metadata": {
  "kernelspec": {
   "display_name": "Python 3.10.0 64-bit",
   "language": "python",
   "name": "python3"
  },
  "language_info": {
   "codemirror_mode": {
    "name": "ipython",
    "version": 3
   },
   "file_extension": ".py",
   "mimetype": "text/x-python",
   "name": "python",
   "nbconvert_exporter": "python",
   "pygments_lexer": "ipython3",
   "version": "3.10.0"
  },
  "orig_nbformat": 4,
  "vscode": {
   "interpreter": {
    "hash": "e5a9a7a72b5280cbf83748155792f0448efef6ec1c559ac525e5f1995db30a78"
   }
  }
 },
 "nbformat": 4,
 "nbformat_minor": 2
}
